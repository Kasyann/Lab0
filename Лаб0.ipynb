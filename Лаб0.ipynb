{
  "metadata": {
    "kernelspec": {
      "name": "python",
      "display_name": "Python (Pyodide)",
      "language": "python"
    },
    "language_info": {
      "codemirror_mode": {
        "name": "python",
        "version": 3
      },
      "file_extension": ".py",
      "mimetype": "text/x-python",
      "name": "python",
      "nbconvert_exporter": "python",
      "pygments_lexer": "ipython3",
      "version": "3.8"
    }
  },
  "nbformat_minor": 4,
  "nbformat": 4,
  "cells": [
    {
      "cell_type": "code",
      "source": "1. С помощью массивов numpy создайте таблицу умножения.",
      "metadata": {
        "trusted": true
      },
      "outputs": [],
      "execution_count": null
    },
    {
      "cell_type": "code",
      "source": "import numpy as np\n\n# Задаем размер таблицы умножения (например, 10x10)\nn = 10\n\n# Создаем массив чисел от 1 до n\nnumbers = np.arange(1, n + 1)\n\n# Создаем таблицу умножения с помощью операций внешнего произведения\nmultiplication_table = np.outer(numbers, numbers)\n\nprint(multiplication_table)",
      "metadata": {
        "trusted": true
      },
      "outputs": [],
      "execution_count": null
    },
    {
      "cell_type": "code",
      "source": "2. Создайте функцию, которая принимает как аргументы целое число N и первый элемент (вещественное число), \nи разность (вещественное число) и создает матрицу numpy по диагонали, \nкоторой располагаются первые N членов арифметической прогрессии.",
      "metadata": {
        "trusted": true
      },
      "outputs": [],
      "execution_count": null
    },
    {
      "cell_type": "code",
      "source": "import numpy as np\n\ndef create_arithmetic_diagonal_matrix(N, first, difference):\n    # Генерация первых N членов арифметической прогрессии\n    progression = [first + i * difference for i in range(N)]\n    \n    # Создание нулевой матрицы размером N x N\n    matrix = np.zeros((N, N))\n    \n    # Заполнение диагонали элементами прогрессии\n    np.fill_diagonal(matrix, progression)\n    \n    return matrix\n\n# Пример использования функции\nN = 5\nfirst = 1.0\ndifference = 0.5\nmatrix = create_arithmetic_diagonal_matrix(N, first, difference)\nprint(matrix)",
      "metadata": {
        "trusted": true
      },
      "outputs": [],
      "execution_count": null
    },
    {
      "cell_type": "code",
      "source": "3. Сгенерируйте средствами numpy матрицу А 5 на 5, содержащую последовательные числа от 1 до 25. \nИспользуя срезы извлеките в плоский массив все нечетные элементы этой матрицы.",
      "metadata": {
        "trusted": true
      },
      "outputs": [],
      "execution_count": null
    },
    {
      "cell_type": "code",
      "source": "import numpy as np\n\n# Создаем матрицу A размером 5x5 с элементами от 1 до 25\nA = np.arange(1, 26).reshape(5, 5)\n\n# Извлекаем все нечетные элементы в плоский массив\nodd_elements = A[A % 2 == 1]\n\nprint(\"Матрица A:\")\nprint(A)\nprint(\"\\nНечетные элементы в матрице A:\")\nprint(odd_elements)",
      "metadata": {
        "trusted": true
      },
      "outputs": [],
      "execution_count": null
    },
    {
      "cell_type": "code",
      "source": "4. Создайте двумерный массив, содержащий единицы на границе и нули внутри.",
      "metadata": {
        "trusted": true
      },
      "outputs": [],
      "execution_count": null
    },
    {
      "cell_type": "code",
      "source": "def create_boundary_array(n):\n    # Создаем двумерный массив, заполненный нулями\n    array = [[0 for _ in range(n)] for _ in range(n)]\n    \n    # Заполняем границы единицами\n    for i in range(n):\n        for j in range(n):\n            if i == 0 or i == n-1 or j == 0 or j == n-1:\n                array[i][j] = 1\n                \n    return array\n\n# Пример использования\nn = 5\nboundary_array = create_boundary_array(n)\nfor row in boundary_array:\n    print(row)",
      "metadata": {
        "trusted": true
      },
      "outputs": [],
      "execution_count": null
    },
    {
      "cell_type": "code",
      "source": "5. Создайте две матрицы размером (5,5). Одна матрица содержит 5 в шахматном порядке как в задаче домашнего задания, \nдругая имеет треугольную форму содержащую 5 на основной диагонали и в позициях выше ее, а ниже все 0. \nПосчитайте их детерминант и найдите обратные матрицы.",
      "metadata": {
        "trusted": true
      },
      "outputs": [],
      "execution_count": null
    },
    {
      "cell_type": "code",
      "source": "import numpy as np\n\n# Создание первой матрицы в шахматном порядке\nmatrix_chess = np.zeros((5, 5))\nfor i in range(5):\n    for j in range(5):\n        if (i + j) % 2 == 0:\n            matrix_chess[i, j] = 5\n\n# Создание второй треугольной матрицы\nmatrix_triangle = np.triu(np.full((5, 5), 5))\n\n# Вывод матриц\nprint(\"Матрица в шахматном порядке:\")\nprint(matrix_chess)\nprint(\"\\nТреугольная матрица:\")\nprint(matrix_triangle)\n\n# Вычисление детерминантов\ndet_chess = np.linalg.det(matrix_chess)\ndet_triangle = np.linalg.det(matrix_triangle)\n\nprint(\"\\nДетерминанты:\")\nprint(f\"Детерминант шахматной матрицы: {det_chess}\")\nprint(f\"Детерминант треугольной матрицы: {det_triangle}\")\n\n# Вычисление обратных матриц\ntry:\n    inverse_chess = np.linalg.inv(matrix_chess)\n    print(\"\\nОбратная матрица для шахматной матрицы:\")\n    print(inverse_chess)\nexcept np.linalg.LinAlgError:\n    print(\"\\nОбратная матрица для шахматной матрицы не существует.\")\n\ntry:\n    inverse_triangle = np.linalg.inv(matrix_triangle)\n    print(\"\\nОбратная матрица для треугольной матрицы:\")\n    print(inverse_triangle)\nexcept np.linalg.LinAlgError:\n    print(\"\\nОбратная матрица для треугольной матрицы не существует.\")",
      "metadata": {
        "trusted": true
      },
      "outputs": [],
      "execution_count": null
    },
    {
      "cell_type": "code",
      "source": "6. С помощью pandas загрузите датасет для предсказания цены квартиры, прилагающийся к этой работе.",
      "metadata": {
        "trusted": true
      },
      "outputs": [],
      "execution_count": null
    },
    {
      "cell_type": "code",
      "source": "import pandas as pd\n\n# Загрузка данных из CSV файла\nfile_path = 'data.csv'  # путь к файлу\ndata = pd.read_csv('data.csv')\n\n# Вывод первых 5 строк датасета для проверки\nprint(data.head())",
      "metadata": {
        "trusted": true
      },
      "outputs": [],
      "execution_count": null
    },
    {
      "cell_type": "code",
      "source": "7. Выведите на экран несколько первых и несколько последних строк файла.",
      "metadata": {
        "trusted": true
      },
      "outputs": [],
      "execution_count": null
    },
    {
      "cell_type": "code",
      "source": "import csv\n\nfile_path = 'data.csv'\n\n# Чтение и вывод первых и последних строк\nwith open(file_path, mode='r', newline='', encoding='utf-8') as file:\n    reader = csv.reader(file)\n    \n    # Получаем все строки в списке\n    rows = list(reader)\n    \n    # Выводим первые 5 строк\n    print(\"Первые 5 строк:\")\n    for row in rows[:5]:\n        print(row)\n    \n    # Выводим последние 5 строк\n    print(\"\\nПоследние 5 строк:\")\n    for row in rows[-5:]:\n        print(row)",
      "metadata": {
        "trusted": true
      },
      "outputs": [],
      "execution_count": null
    },
    {
      "cell_type": "code",
      "source": "8. Выведите с помощью методов pandas основные количественные параметры датасета: \nколичество строк и столбцов, тип данных каждого поля, \nколичество значений в каждом столбце, шкала измерения каждого численного поля.",
      "metadata": {
        "trusted": true
      },
      "outputs": [],
      "execution_count": null
    },
    {
      "cell_type": "code",
      "source": "import pandas as pd\n\ndf = pd.read_csv('data.csv')\n\n# 1. Количество строк и столбцов\nnum_rows, num_columns = df.shape\nprint(f'Количество строк: {num_rows}')\nprint(f'Количество столбцов: {num_columns}')\n\n# 2. Тип данных каждого поля\nprint('\\nТипы данных каждого поля:')\nprint(df.dtypes)\n\n# 3. Количество значений в каждом столбце\nprint('\\nКоличество значений в каждом столбце:')\nprint(df.count())\n\n# 4. Шкала измерения каждого численного поля\n# Для определения шкалы измерения можно использовать функцию, которая проверяет тип данных\ndef scale_of_measurement(series):\n    if pd.api.types.is_numeric_dtype(series):\n        if len(series.unique()) <= 10:  # Пример для категориальных, если менее 10 уникальных значений\n            return 'Категориальная'\n        elif series.dropna().count() > 1:  # Проверка на наличие двух и более уникальных значений\n            return 'Континуальная'\n    return 'Неизвестно'\n\nmeasurement_scales = {col: scale_of_measurement(df[col]) for col in df.select_dtypes(include='number').columns}\nprint('\\nШкала измерения каждого численного поля:')\nfor column, scale in measurement_scales.items():\n    print(f'{column}: {scale}')",
      "metadata": {
        "trusted": true
      },
      "outputs": [],
      "execution_count": null
    },
    {
      "cell_type": "code",
      "source": "9. Удалите из таблицы столбцы, содержащие идентификаторы, переименуйте все оставшиеся названия колонок на русском языке.",
      "metadata": {
        "trusted": true
      },
      "outputs": [],
      "execution_count": null
    },
    {
      "cell_type": "code",
      "source": "import pandas as pd\n\n# Загружаем CSV файл\ndf = pd.read_csv('data.csv')\n\n# Удаляем столбцы с идентификаторами\ndf = df.loc[:, ~df.columns.str.contains('id', case=False)]\n\n# Переименовываем оставшиеся колонки\nnew_column_names = {\n    'Rooms': 'Комнаты',\n    'Square': 'Площадь',\n    'LifeSquare': 'ЖилаяПлощадь',\n    'KitchenSquare': 'ПлощадьКухни',\n    'Floor': 'Этаж',\n    'HouseFloor': 'ЭтажностьДома',\n    'HouseYear': 'ГодПостройки',\n    'Ecology_1': 'Экология1',\n    'Ecology_2': 'Экология2',\n    'Ecology_3': 'Экология3',\n    'Social_1': 'Социальное1',\n    'Social_2': 'Социальное2',\n    'Social_3': 'Социальное3',\n    'Healthcare_1': 'Здравоохранение1',\n    'Helthcare_2': 'Здравоохранение2',\n    'Shops_1': 'Магазины1',\n    'Shops_2': 'Магазины2',\n    'Price': 'Цена'\n}\n\ndf.rename(columns=new_column_names, inplace=True)\n\n# Сохраняем обновленный DataFrame в новый CSV файл\ndf.to_csv('data1.csv', index=False)\n\nprint(\"Столбцы обновлены и сохранены.\")",
      "metadata": {
        "trusted": true
      },
      "outputs": [],
      "execution_count": null
    },
    {
      "cell_type": "code",
      "source": "10. Выведите отдельно столбец, содержащий цену, по номеру и названию. \nВыведите первую, десятую и предпоследнюю строку таблицы по номеру и по индексу.",
      "metadata": {
        "trusted": true
      },
      "outputs": [],
      "execution_count": null
    },
    {
      "cell_type": "code",
      "source": "import pandas as pd\n\n# Загрузка данных из CSV\ndf = pd.read_csv('data1.csv')\n\n# Вывод столбца 'Цена'\nprint(\"Столбец 'Цена':\")\nprint(df['Цена'])\n\n# Первая строка\nfirst_row = df.iloc[0]\nprint(\"\\nПервая строка по индексу:\")\nprint(first_row)\n\n# Десятая строка\ntenth_row = df.iloc[9]  # Индекс 9 соответствует десятой строке\nprint(\"\\nДесятая строка по индексу:\")\nprint(tenth_row)\n\n# Предпоследняя строка\npenultimate_row = df.iloc[-2]\nprint(\"\\nПредпоследняя строка по индексу:\")\nprint(penultimate_row)\n",
      "metadata": {
        "trusted": true
      },
      "outputs": [],
      "execution_count": null
    },
    {
      "cell_type": "code",
      "source": "11. Выделите в отдельную таблицу последние десять строк. \nУберите в ней столбец с ценой. \nСклейте ее с первоначальной таблицей при помощи append. \nЗаполните отсутствующие значения цены средним по таблице.",
      "metadata": {
        "trusted": true
      },
      "outputs": [],
      "execution_count": null
    },
    {
      "cell_type": "code",
      "source": "import pandas as pd\n\n# Загрузите данные из CSV файлов\ndata = pd.read_csv('data.csv')\ndata1 = pd.read_csv('data1.csv')\n\n# Проверка названий столбцов\nprint(\"Столбцы в data:\", data.columns)\nprint(\"Столбцы в data1:\", data1.columns)\n\n# Выделите последние 10 строк из data1\nlast_ten_rows = data1.tail(10)\n\n# Убедитесь, что столбец 'Цена' существует\nif 'Цена' in last_ten_rows.columns:\n    last_ten_rows_without_price = last_ten_rows.drop(columns=['Цена'])\nelse:\n    print(\"Столбец 'Цена' не найден в data1.\")\n\n# Склейте таблицу с первоначальной таблицей\ncombined_data = pd.concat([data, last_ten_rows_without_price], ignore_index=True)\n\n# Заполните отсутствующие значения цены средним по таблице, убедитесь, что он существует\nif 'Price' in data.columns:\n    average_price = data['Price'].mean()\n    combined_data['Price'].fillna(average_price, inplace=True)\n\n# Проверка на наличие пустых значений в результирующей таблице\nprint(combined_data.isnull().sum())\n\n# Сохраните результат в новый CSV файл, если это необходимо\ncombined_data.to_csv('combined_data.csv', index=False)\n\nprint(\"Обработка завершена.\")",
      "metadata": {
        "trusted": true
      },
      "outputs": [],
      "execution_count": null
    },
    {
      "cell_type": "code",
      "source": "12. Выделите пять последних колонок в отдельную таблицу. \nУдалите в ней строки, в которых цена ниже среднего. \nПрисоедините эту таблицу к изначальной (выберите самый подходящий тип соединения).",
      "metadata": {
        "trusted": true
      },
      "outputs": [],
      "execution_count": null
    },
    {
      "cell_type": "code",
      "source": "import pandas as pd\n\n# Загрузка данных из csv файлов\ndata = pd.read_csv('data.csv')\ndata1 = pd.read_csv('data1.csv')\n\n# Выделение пяти последних колонок из data1\nlast_five_columns = data1.iloc[:, -5:]\n\n# Рассчитаем среднее значение по колонке 'цена'\naverage_price = last_five_columns['Цена'].mean()\n\n# Удаление строк, где цена ниже среднего\nfiltered_table = last_five_columns[last_five_columns['Цена'] >= average_price]\n\n# Присоединение отфильтрованной таблицы к исходной (используем соединение по индексам)\nresult = pd.concat([data, filtered_table], axis=1)\n\n# Сохранение результата в новый файл\nresult.to_csv('result.csv', index=False)\n\nprint(result)",
      "metadata": {
        "trusted": true
      },
      "outputs": [],
      "execution_count": null
    },
    {
      "cell_type": "code",
      "source": "13. Выведите таблицу, содержащую среднюю цену и количество квартир на каждом этаже из первоначального набора данных.\n14. Сохраните получившуюся таблицу в файлы формата csv и xlsx. Прочитайте их и убедитесь, что данные отображаются корректно.",
      "metadata": {
        "trusted": true
      },
      "outputs": [],
      "execution_count": null
    },
    {
      "cell_type": "code",
      "source": "%pip install pandas openpyxl\nimport pandas as pd\n\n# Загрузите данные из первоначального набора данных\ndata = pd.read_csv('data.csv')\n\n# Предполагаем, что в data.csv есть столбцы 'floor' (этаж) и 'price' (цена)\n# Группируем данные по этажу и вычисляем среднюю цену и количество квартир\nresult = data.groupby('HouseFloor').agg(\n    average_price=pd.NamedAgg(column='Price', aggfunc='mean'),\n    apartments_count=pd.NamedAgg(column='Price', aggfunc='count')\n).reset_index()\n\n# Сохраняем результат в CSV\nresult.to_csv('average_price_by_floor.csv', index=False)\n\n# Сохраняем результат в XLSX\nresult.to_excel('average_price_by_floor.xlsx', index=False)\n\nprint(\"Файлы average_price_by_floor.csv и average_price_by_floor.xlsx успешно созданы.\")",
      "metadata": {
        "trusted": true
      },
      "outputs": [],
      "execution_count": null
    },
    {
      "cell_type": "code",
      "source": "15. Создайте в Excel или другом табличном редакторе таблицу, содержащую несколько численных и текстовых полей. \nПрочитайте ее в программу при помощи pandas.",
      "metadata": {
        "trusted": true
      },
      "outputs": [],
      "execution_count": null
    },
    {
      "cell_type": "code",
      "source": "import pandas as pd\n\n# Укажите путь к файлу\nfile_path = \"example.xlsx\"\n\n# Чтение таблицы в DataFrame\ndata = pd.read_excel(file_path)\n\n# Вывод данных\nprint(data)",
      "metadata": {
        "trusted": true
      },
      "outputs": [],
      "execution_count": null
    },
    {
      "cell_type": "code",
      "source": "16. Дальнейшие задания производите используя изначальную версию датасета. \nДолжны быть подписаны названия графиков, названия осей, указаны значения на осях. \nОцениваться будет использование количества различных атрибутов при построении графиков и визуальная красота.\n17. Постройте круговую диаграмму для признака Rooms, иллюстрирующую количество квартир в процентах в зависимости от количества комнат. \nСделайте сектор с наибольшим числом квартир выдвинутым.",
      "metadata": {
        "trusted": true
      },
      "outputs": [],
      "execution_count": null
    },
    {
      "cell_type": "code",
      "source": "import matplotlib.pyplot as plt\n\n# Загрузите данные из первоначального набора данных\ndata = pd.read_csv('data.csv')\n\n# Пересчитать все квартиры с одинаковым количеством комнат\nroom_counts = data['Rooms'].value_counts(normalize=True) * 100  # Перевести в проценты\n\ncolors = plt.cm.Paired.colors\n\n# Создать диаграмму\nplt.figure(figsize=(8, 8))\nexplode = [0.1 if room == room_counts.idxmax() else 0 for room in room_counts.index]  # Выделить самый большой сегмент\n\nplt.pie(room_counts, labels=room_counts.index, autopct='%1.1f%%', startangle=140, \n        explode=explode, colors=colors, shadow=True)\n\n# Название диаграммы и её секторов\nplt.title('Распределение квартир по кол-ву комнат (%)')\nplt.xlabel('Кол-во комнат')\nplt.ylabel('Процент')\n\n# Вывести диаграмму\nplt.show()\n",
      "metadata": {
        "trusted": true
      },
      "outputs": [],
      "execution_count": null
    },
    {
      "cell_type": "code",
      "source": "18. Постройте гистограмму по целевой переменной Price. \nОцените визуально, по какой цене продаётся наибольшее количество квартир.",
      "metadata": {
        "trusted": true
      },
      "outputs": [],
      "execution_count": null
    },
    {
      "cell_type": "code",
      "source": "# Загрузка данных\ndata = pd.read_csv('data.csv')\n\n# Отображение диаграммы по столбцу \"цена\"\nplt.figure(figsize=(10, 6))\nplt.hist(data['Price'], bins=30, color='skyblue', edgecolor='black')\n\n# Добавление описания\nplt.title('Стравнение цен и количества квартир')\nplt.xlabel('Цена')\nplt.ylabel('Количество квартир')\n\n# Вывести диаграмму\nplt.show()\n",
      "metadata": {
        "trusted": true
      },
      "outputs": [],
      "execution_count": null
    },
    {
      "cell_type": "code",
      "source": "19. Постройте диаграммы рассеяния для признаков Rooms, Square, HouseFloor, \nHouseYear в зависимости от целевой переменной Price в одной области figure. \nОцените визуально, есть ли среди них такие, на которых разброс точек близок к линейной функции.",
      "metadata": {
        "trusted": true
      },
      "outputs": [],
      "execution_count": null
    },
    {
      "cell_type": "code",
      "source": "import pandas as pd\nimport matplotlib.pyplot as plt\n\n# Загрузите данные\ndata = pd.read_csv('data.csv')\n\n# Определим признаки для анализа\nfeatures = ['Rooms', 'Square', 'HouseFloor', 'HouseYear']\n\n# Настройка области для 2x2 диаграмм\nfig, axes = plt.subplots(2, 2, figsize=(12, 10))\nfig.suptitle('Scatter Plots of Features vs. Price', fontsize=16)\n\n# Построение диаграмм рассеяния для каждого признака\nfor i, feature in enumerate(features):\n    ax = axes[i // 2, i % 2]\n    ax.scatter(data[feature], data['Price'], alpha=0.5, color='teal', edgecolor='black')\n    ax.set_title(f'{feature} vs. Price')\n    ax.set_xlabel(feature)\n    ax.set_ylabel('Price')\n\n# Уточнение расположения для аккуратного отображения\nplt.tight_layout(rect=[0, 0.03, 1, 0.95])\nplt.show()\n",
      "metadata": {
        "trusted": true
      },
      "outputs": [],
      "execution_count": null
    },
    {
      "cell_type": "code",
      "source": "20. Постройте ядерную оценку плотности целевой переменной Price. \nОцените визуально, напоминает ли полученный график нормальное распределение. \nПостройте двумерную ядерную оценку плотности для целевой переменной Price и признака HouseFloor, \nзатем оцените визуально на каких этажах и по какой цене продаётся основная масса квартир.",
      "metadata": {
        "trusted": true
      },
      "outputs": [],
      "execution_count": null
    },
    {
      "cell_type": "code",
      "source": "%pip install pandas seaborn\nimport pandas as pd\nimport seaborn as sns\nimport matplotlib.pyplot as plt\n\n# Загрузите данные\ndata = pd.read_csv('data.csv')\n\n# Построение ядерной оценки плотности для переменной Price\nplt.figure(figsize=(10, 6))\nsns.kdeplot(data['Price'], color='purple', fill=True)\nplt.title('Ядерная оценка плотности')\nplt.xlabel('Цена')\nplt.ylabel('Плотность')\nplt.show()\n\n# Построение двумерной ядерной оценки плотности для Price и HouseFloor\nplt.figure(figsize=(10, 8))\nsns.kdeplot(x=data['HouseFloor'], y=data['Price'], cmap='Blues', fill=True, thresh=0.01)\nplt.title('Двухмерная ядерная оценка плотности')\nplt.xlabel('Этажность дома')\nplt.ylabel('Цена')\nplt.show()\n",
      "metadata": {
        "trusted": true
      },
      "outputs": [],
      "execution_count": null
    },
    {
      "cell_type": "code",
      "source": "21. Постройте ящиковую диаграмму признака Square. \nОцените визуально имеются ли выбросы, и, если да, \nто начиная с какого размера площади значение признака можно считать выбросом.",
      "metadata": {
        "trusted": true
      },
      "outputs": [],
      "execution_count": null
    },
    {
      "cell_type": "code",
      "source": "import pandas as pd\nimport matplotlib.pyplot as plt\nimport seaborn as sns\n\n# Шаг 1: Загрузка данных\ndata = pd.read_csv('data.csv')\n\n# Шаг 2: Построение ящиковой диаграммы для признака 'Square'\nplt.figure(figsize=(10, 6))\nsns.boxplot(x=data['Square'])\nplt.title('Ящиковая диаграмма для признака Square')\nplt.xlabel('Square')\nplt.grid(axis='x')\nplt.show()\n\n# Шаг 3: Вычисление и вывод статистик для оценки выбросов\nQ1 = data['Square'].quantile(0.25)\nQ3 = data['Square'].quantile(0.75)\nIQR = Q3 - Q1\n\n# Определение границ для выбросов\nlower_bound = Q1 - 1.5 * IQR\nupper_bound = Q3 + 1.5 * IQR\n\nprint(f'Нижняя граница: {lower_bound}')\nprint(f'Верхняя граница: {upper_bound}')",
      "metadata": {
        "trusted": true
      },
      "outputs": [],
      "execution_count": null
    },
    {
      "cell_type": "code",
      "source": "22. При помощи сетки графиков PairGrid визуализируйте попарные отношения признаков Rooms, Square, HouseFloor, HouseYear, Price \nследующим образом: на диагонали - гистограммы, под диагональю - ядерные оценки плотности, над диагональю - диаграммы рассеяния. \nПо результатам визуализации сделайте выводы.",
      "metadata": {
        "trusted": true
      },
      "outputs": [],
      "execution_count": null
    },
    {
      "cell_type": "code",
      "source": "%pip install pandas seaborn\nimport pandas as pd\nimport seaborn as sns\nimport matplotlib.pyplot as plt\n\n# Шаг 1: Загрузка данных\ndata = pd.read_csv('data.csv')\n\n# Шаг 2: Определение признаков для анализа\nfeatures = ['Rooms', 'Square', 'HouseFloor', 'HouseYear', 'Price']\n\n# Шаг 3: Создание сетки графиков PairGrid\ng = sns.PairGrid(data[features], diag_sharey=False)\n\n# Добавление гистограмм на диагональ\ng.map_diag(sns.histplot, kde=True, color='blue')\n\n# Добавление ядерных оценок плотности под диагональю\ng.map_lower(sns.kdeplot, fill=True, color='green')\n\n# Добавление диаграмм рассеяния над диагональю\ng.map_upper(sns.scatterplot, color='red')\n\n# Отображение графиков\nplt.suptitle('Попарные отношения признаков', y=1.02)\nplt.show()",
      "metadata": {
        "trusted": true
      },
      "outputs": [],
      "execution_count": null
    },
    {
      "cell_type": "code",
      "source": "23. Постройте тепловую карту матрицы корреляции (df.corr()) признаков Rooms, Square, HouseFloor, HouseYear, Price. \nПо ней определите, какие признаки являются зависимыми (у таких признаков коэффициент корреляции близок к единице).",
      "metadata": {
        "trusted": true
      },
      "outputs": [],
      "execution_count": null
    },
    {
      "cell_type": "code",
      "source": "import pandas as pd\nimport seaborn as sns\nimport matplotlib.pyplot as plt\n\n# 1. Загрузите данные\ndata = pd.read_csv('data.csv')\n\n# 2. Выберите нужные признаки\ncolumns_of_interest = ['Rooms', 'Square', 'HouseFloor', 'HouseYear', 'Price']\ndf_selected = data[columns_of_interest]\n\n# 3. Вычислите коэффициент корреляции\ncorrelation_matrix = df_selected.corr()\n\n# 4. Постройте тепловую карту\nplt.figure(figsize=(10, 8))\nsns.heatmap(correlation_matrix, annot=True, fmt=\".2f\", cmap='coolwarm', square=True, cbar_kws={\"shrink\": .8})\n\n# Добавьте заголовок\nplt.title('Тепловая карта матрицы корреляции')\nplt.show()",
      "metadata": {
        "trusted": true
      },
      "outputs": [],
      "execution_count": null
    },
    {
      "cell_type": "code",
      "source": "Контрольные вопросы",
      "metadata": {
        "trusted": true
      },
      "outputs": [],
      "execution_count": null
    },
    {
      "cell_type": "code",
      "source": "Какие структуры данных используются в Numpy? В чем их отличие от списков Python?\n\nNumpy использует массивы (numpy.ndarray) в качестве основной структуры данных. Массивы Numpy имеют несколько отличий от списков Python:\n\nТипы данных: Массивы Numpy являются однородными (все элементы должны быть одного типа), тогда как списки \nPython могут содержать элементы разных типов.\n\nЭффективность: Массивы Numpy занимают меньше памяти и обеспечивают большую скорость выполнения операций по сравнению с обычными списками.\n\nФункциональность: Numpy предоставляет множество встроенных функций для работы с массивами, таких как арифметические операции, \nлинейная алгебра и многое другое, что облегчает выполнение научных вычислений.\n\n\nКакие функции для генерации массивов использует Numpy?\n\nNumpy предлагает различные функции для создания массивов, включая:\n\nnumpy.array(): Создает массив из списка или другого массива.\nnumpy.zeros(): Создает массив, заполненный нулями.\nnumpy.ones(): Создает массив, заполненный единицами.\nnumpy.arange(): Создает массив с равномерно распределенными значениями в заданном диапазоне.\nnumpy.linspace(): Создает массив с заданным количеством значений, равномерно распределенных на заданном интервале.\nnumpy.random.rand(): Создает массив случайных чисел в диапазоне от 0 до 1.\n\nКакие способы предлагает Numpy для извлечения данных из массивов?\n\nNumpy предлагает различные способы для извлечения данных из массивов, включая:\n\nИндексация: Можно получать элементы массива по индексу, например array[0] для первого элемента.\nСрезы: Позволяют извлекать подмассивы, например array[1:5] для элементов с 1 по 4.\nБулева индексация: Использование логических массивов для фильтрации данных, например array[array > 0] \nдля получения всех положительных элементов.\nИндексация по массивам: Позволяет извлекать элементы по спискам индексов.\n\nЧто такое векторизация кода и почему это ускоряет работу программ?\n\nВекторизация кода — это процесс преобразования скалярных операций (операций над отдельными элементами) \nв операции над целыми массивами. Это позволяет выполнять вычисления более эффективно за счет согласованного \nиспользования низкоуровневых оптимизаций и параллелизма, доступного в библиотеке Numpy. \nВекторизация часто приводит к значительному ускорению работы программ, поскольку операции над массивами обрабатываются на уровне, \nболее оптимизированном по сравнению с циклом по отдельным элементам.\n\nКакие виды матричных операций реализованы в Numpy?\n\nNumpy поддерживает множество матричных операций, включая:\n\nСложение и вычитание: Элементы двух массивов.\nУмножение и деление: Поэлементное умножение и деление.\nМатричное умножение: Операция @ или функция numpy.dot().\nТранспонирование: Необходимо для смены местами строк и столбцов с помощью метода array.T.\nОбратная матрица: Вычисляется с помощью numpy.linalg.inv().\nСобственные значения и собственные векторы: Вычисляются с помощью numpy.linalg.eig().\n\nКакие функции используются для преобразования формы, размера и соединения массивов?\n\nNumpy предоставляет функции для манипуляции формой и размером массивов:\n\nИзменение формы: numpy.reshape() позволяет изменить форму массива.\nИзменение размера: numpy.resize() изменяет размер массива, заполняя недостающие значения.\nОбъединение массивов: numpy.concatenate(), numpy.vstack(), numpy.hstack() для вертикального и горизонтального объединения.\nРазделение массивов: numpy.split() позволяет разделить массив на подмассивы.\n\nКакие две главные структуры данных используются в pandas? В чем их отличие?\n\nВ pandas основные структуры данных — это Series и DataFrame.\n\nSeries: Одномерная структура, аналогичная массиву или списку. Она может содержать данные любого типа и имеет индекс. \nПрименяется для хранения одномерных данных.\n\nDataFrame: Двумерная структура, аналогичная таблице или электронной таблице. \nСостоит из множества Series, каждая из которых представляет столбец. \nDataFrame позволяет хранить данные в виде строк и столбцов, что делает его более подходящим для работы с табличными данными.\n\nОтличие между Series и DataFrame заключается в том, что Series представляет собой одномерный массив с соотв. \nиндексами, в то время как DataFrame организует данные в двумерную структуру с возможностью работать с несколькими \nфакторами и различными типами данных в каждом столбце.\n\nВот ответы на ваши вопросы о библиотеке pandas и визуализации данных в Python:\n\n\n1. Объединение двух таблиц в pandas\n\nВ pandas объединение (или слияние) двух таблиц осуществляется с помощью методов merge(), join() и concat().\n\n\nmerge(): используется для объединения двух DataFrame по одному или нескольким ключевым столбцам, подобно SQL JOIN.\njoin(): специфицирует индексы и используется для объединения по индексам.\nconcat(): объединяет DataFrame по оси (столбцы или строки).\n\nПример использования merge():\nimport pandas as pd\n\ndf1 = pd.DataFrame({'key': ['A', 'B', 'C'], 'value1': [1, 2, 3]})\ndf2 = pd.DataFrame({'key': ['B', 'C', 'D'], 'value2': [4, 5, 6]})\n\nmerged_df = pd.merge(df1, df2, on='key', how='inner')\n\n2. Индексы в pandas\n\nИндексы в pandas используются для идентификации строк в DataFrame или Series. Они позволяют:\n\n\nБыстро осуществлять доступ к данным.\nУпрощать операции слияния и объединения.\nПрименять различные функции и методы к данным.\n\nМожно установить индекс с помощью метода set_index(), а также можно использовать многоуровневые (MultiIndex).\n\n\n3. Основные виды графиков в машинном обучении\n\nПри анализе данных используются разные виды графиков, включая:\n\n\nГистограммы (для распределения данных).\nЯщиковые (box plot) графики (для выявления выбросов и распределения).\nРазбросные (scatter) графики (для просмотра зависимости между двумя переменными).\nЛинейные графики (для отслеживания изменений во времени).\n\n4. Разница между matplotlib и seaborn\n\nMatplotlib: основная библиотека для визуализации данных. Очень гибкая и позволяет настраивать графики на низком уровне. Преимущества: реализует множество графиков и имеет богатые возможности для кастомизации.\n\nSeaborn: построена на основе Matplotlib и предоставляет более высокоуровневый интерфейс, упрощая создание статистических графиков. Преимущества: более красивые визуализации по умолчанию и встроенные темы и палитры.\n\n\n5. Задание размера графика в matplotlib\n\nРазмер графика в matplotlib можно задать с помощью параметра figsize при создании фигуры с помощью plt.figure() или plt.subplots():\n\nimport matplotlib.pyplot as plt\n\nplt.figure(figsize=(10, 6))\n\n6. Установка стилей в seaborn\n\nСтили в seaborn можно установить с помощью функции set_style(). Например:\n\nimport seaborn as sns\n\nsns.set_style(\"whitegrid\")\n\nВ seaborn есть несколько предустановленных стилей, таких как white, dark, whitegrid, darkgrid, и ticks.\n\n\n7. Подграфики (subplots)\n\nПодграфики (subplots) используются для размещения нескольких графиков в одной фигуре. Это позволяет структурировать данные и визуализацию, улучшая восприятие информации. Например, можно создать несколько графиков в одной строке или колонне.\n\n\nfig, axs = plt.subplots(2, 2)  # Создаст 2x2 подграфика\n\n8. Основные типы графиков в matplotlib\n\nMatplotlib поддерживает разные типы графиков, включая:\n\n\nЛинейные графики (plot).\nСтолбчатые графики (bar).\nГистограммы (hist).\nКруговые диаграммы (pie).\nРазбросные графики (scatter).\nЯщиковые графики (boxplot).\n\nЯщиковая диаграмма (box plot) изображает распределение данных и позволяет визуализировать медиану, квартили и выбросы. Она показывает, как значения распределены по диапазону и предоставляет компактные ссылки на основные статистики.\n\nЧтобы изменить палитру цветов у тепловой карты, вы можете использовать различные инструменты и библиотеки, в зависимости от вашей среды разработки. Ниже приведены примеры для Python с использованием библиотеки Matplotlib и Seaborn.\n\n\nПример с Matplotlib\n\nЕсли вы используете Matplotlib, вы можете изменить палитру, передав аргумент cmap в функцию imshow или pcolormesh. Вот пример:\n\nimport numpy as np\nimport matplotlib.pyplot as plt\n\n# Генерация случайных данных\ndata = np.random.rand(10, 10)\n\n# Создание тепловой карты с пользовательской палитрой\nplt.imshow(data, cmap='viridis')  # Можно заменить 'viridis' на любую другую палитру\nplt.colorbar()\nplt.show()\n\nПример с Seaborn\n\nЕсли вы используете Seaborn, вы можете изменить палитру, указав параметр cmap в функции heatmap. Вот пример:\n\nimport numpy as np\nimport seaborn as sns\nimport matplotlib.pyplot as plt\n\n# Генерация случайных данных\ndata = np.random.rand(10, 10)\n\n# Создание тепловой карты с пользовательской палитрой\nsns.heatmap(data, cmap='coolwarm')  # Можно заменить 'coolwarm' на любую другую палитру\nplt.show()\n\nДоступные палитры\n\nВы можете использовать предопределенные палитры, такие как:\n\n\n'viridis'\n'plasma'\n'inferno'\n'magma'\n'cividis'\n'coolwarm'\n'hot'\n'gray'\n\nТакже вы можете создавать свои собственные палитры с помощью функции LinearSegmentedColormap в Matplotlib.",
      "metadata": {
        "trusted": true
      },
      "outputs": [],
      "execution_count": null
    }
  ]
}